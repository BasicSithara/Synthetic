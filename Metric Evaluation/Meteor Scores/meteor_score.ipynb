{
  "nbformat": 4,
  "nbformat_minor": 0,
  "metadata": {
    "colab": {
      "provenance": [],
      "authorship_tag": "ABX9TyPM+bW5HANuzL6YjCywQJi3"
    },
    "kernelspec": {
      "name": "python3",
      "display_name": "Python 3"
    },
    "language_info": {
      "name": "python"
    }
  },
  "cells": [
    {
      "cell_type": "code",
      "source": [],
      "metadata": {
        "id": "FKeFRuiZLbQM"
      },
      "execution_count": null,
      "outputs": []
    },
    {
      "cell_type": "code",
      "execution_count": null,
      "metadata": {
        "id": "SJy23UcOU0zu"
      },
      "outputs": [],
      "source": [
        "import pandas as pd\n",
        "import string\n",
        "import csv"
      ]
    },
    {
      "cell_type": "code",
      "execution_count": null,
      "metadata": {
        "colab": {
          "base_uri": "https://localhost:8080/"
        },
        "id": "omulfPDD-nUt",
        "outputId": "7f360f2b-3821-4a99-8a57-85589e20003f"
      },
      "outputs": [
        {
          "output_type": "stream",
          "name": "stdout",
          "text": [
            "--2022-12-21 05:36:09--  https://raw.githubusercontent.com/SreeBhagya-S/Synthetic-Manglish-Corpus/main/amazon_fullReviews.csv\n",
            "Resolving raw.githubusercontent.com (raw.githubusercontent.com)... 185.199.108.133, 185.199.109.133, 185.199.110.133, ...\n",
            "Connecting to raw.githubusercontent.com (raw.githubusercontent.com)|185.199.108.133|:443... connected.\n",
            "HTTP request sent, awaiting response... 200 OK\n",
            "Length: 44354977 (42M) [text/plain]\n",
            "Saving to: ‘amazon_fullReviews.csv’\n",
            "\n",
            "amazon_fullReviews. 100%[===================>]  42.30M   236MB/s    in 0.2s    \n",
            "\n",
            "2022-12-21 05:36:11 (236 MB/s) - ‘amazon_fullReviews.csv’ saved [44354977/44354977]\n",
            "\n"
          ]
        }
      ],
      "source": [
        "# Downloading datasets\n",
        "!rm -rf t*\n",
        "!wget https://raw.githubusercontent.com/SreeBhagya-S/Synthetic-Manglish-Corpus/main/Datasets/amazon_fullReviews.csv\n",
        "!wget https://raw.githubusercontent.com/SreeBhagya-S/Synthetic-Manglish-Corpus/main/Datasets/amazon_cm_token.csv"
      ]
    },
    {
      "cell_type": "code",
      "execution_count": null,
      "metadata": {
        "colab": {
          "base_uri": "https://localhost:8080/",
          "height": 659
        },
        "id": "YxTRLtCrVCNJ",
        "outputId": "ed9c53e6-1c88-419a-8742-8c0b271f34ec"
      },
      "outputs": [
        {
          "output_type": "execute_result",
          "data": {
            "text/plain": [
              "                                         english_reviews  \\\n",
              "0      This product so far has not disappointed. My c...   \n",
              "1      great for beginner or experienced person. Boug...   \n",
              "2      Inexpensive tablet for him to use and learn on...   \n",
              "3      I've had my Fire HD 8 two weeks now and I love...   \n",
              "4      I bought this for my grand daughter when she c...   \n",
              "...                                                  ...   \n",
              "34654  This is not appreciably faster than any other ...   \n",
              "34655  Amazon should include this charger with the Ki...   \n",
              "34656  Love my Kindle Fire but I am really disappoint...   \n",
              "34657  I was surprised to find it did not come with a...   \n",
              "34658  to spite the fact that i have nothing but good...   \n",
              "\n",
              "                                       malayalam_reviews  \\\n",
              "0      ഈ ഉൽപ്പന്നം ഇതുവരെ നിരാശപ്പെടുത്തിയിട്ടില്ല. എ...   \n",
              "1      തുടക്കക്കാരനോ പരിചയസമ്പന്നനോ ആയ വ്യക്തിക്ക് മി...   \n",
              "2      അയാൾക്ക് ഉപയോഗിക്കാനും പഠിക്കാനുമുള്ള ചെലവുകുറ...   \n",
              "3      എന്റെ ഫയർ എച്ച്‌ഡി 8 ഇപ്പോൾ രണ്ടാഴ്‌ചയുണ്ട്, എ...   \n",
              "4      എന്റെ കൊച്ചുമകൾ സന്ദർശിക്കാൻ വരുമ്പോൾ ഞാൻ ഇത് ...   \n",
              "...                                                  ...   \n",
              "34654  എന്റെ കിൻഡിൽ, കിൻഡിൽ ഫയർ, കിൻഡിൽ ഫയർ എച്ച്‌ഡി,...   \n",
              "34655  കിൻഡിലിനൊപ്പം ആമസോൺ ഈ ചാർജർ ഉൾപ്പെടുത്തണം. ഉൾപ...   \n",
              "34656  എന്റെ കിൻഡിൽ ഫയർ ഇഷ്ടപ്പെടുന്നു, പക്ഷേ കിൻഡിൽ ...   \n",
              "34657  ഒരു തരത്തിലുള്ള ചാർജിംഗ് കോഡുകളുമായും ഇത് വന്ന...   \n",
              "34658  ആമസോണിനെ കുറിച്ചും ആന്തിംഗിനെ കുറിച്ചും എനിക്ക...   \n",
              "\n",
              "                                              cm_reviews  \\\n",
              "0      and  product  ഇതുവരെ  നിരാശപ്പെടുത്തിയിട്ടില്ല...   \n",
              "1      beginner  experienced  or  person  മികച്ചത്.  ...   \n",
              "2      അയാൾക്ക്  ഉപയോഗിക്കാനും  പഠിക്കാനുമുള്ള inexpe...   \n",
              "3      എന്റെ  ipad  എച്ച്ഡി  8  ഇപ്പോൾ  രണ്ടാഴ്ചയുണ്ട...   \n",
              "4      എന്റെ  daughter  സന്ദർശിക്കാൻ  വരുമ്പോൾ  ഞാൻ  ...   \n",
              "...                                                  ...   \n",
              "34654  എന്റെ  kindle  കിൻഡിൽ  fire  കിൻഡിൽ  ഫയർ  hd  ...   \n",
              "34655  കിൻഡിലിനൊപ്പം amazon. ഈ  ചാർജർ  ഉൾപ്പെടുത്തണം....   \n",
              "34656  എന്റെ  kindle  fire  ഇഷ്ടപ്പെടുന്നു  but  കിൻഡ...   \n",
              "34657  and  type  ചാർജിംഗ്  കോഡുകളുമായും  ഇത്  വന്നിട...   \n",
              "34658  ആമസോണിനെ  കുറിച്ചും  ആന്തിംഗിനെ  കുറിച്ചും  എന...   \n",
              "\n",
              "                               transliterated_cm_reviews Unnamed: 4 Unnamed: 5  \n",
              "0      and  product  ituvare  nirashappetuttiyittilla...        NaN        NaN  \n",
              "1      beginner  experienced  or  person  mikachchat....        NaN        NaN  \n",
              "2      ayalkk  upayogikkanum  pathikkanumulla inexpen...        NaN        NaN  \n",
              "3      ente  ipad  echchdi  8  ippol  rantazhchayunt ...        NaN        NaN  \n",
              "4      ente  daughter  sandarshikkan  varumpol  njan ...        NaN        NaN  \n",
              "...                                                  ...        ...        ...  \n",
              "34654  ente  kindle  kindil  fire  kindil  phayar  hd...        NaN        NaN  \n",
              "34655  kindilinoppam amazon. i  charjar  ulppetuttana...        NaN        NaN  \n",
              "34656  ente  kindle  fire  ishtappetunnu  but  kindil...        NaN        NaN  \n",
              "34657  and  type  charjimg  kodukalumayum  it  vannit...        NaN        NaN  \n",
              "34658  amasonine  kurichchum  antimgine  kurichchum  ...        NaN        NaN  \n",
              "\n",
              "[34659 rows x 6 columns]"
            ],
            "text/html": [
              "\n",
              "  <div id=\"df-f0a7e874-5a09-4c33-b0e8-6c283bf2bf9e\">\n",
              "    <div class=\"colab-df-container\">\n",
              "      <div>\n",
              "<style scoped>\n",
              "    .dataframe tbody tr th:only-of-type {\n",
              "        vertical-align: middle;\n",
              "    }\n",
              "\n",
              "    .dataframe tbody tr th {\n",
              "        vertical-align: top;\n",
              "    }\n",
              "\n",
              "    .dataframe thead th {\n",
              "        text-align: right;\n",
              "    }\n",
              "</style>\n",
              "<table border=\"1\" class=\"dataframe\">\n",
              "  <thead>\n",
              "    <tr style=\"text-align: right;\">\n",
              "      <th></th>\n",
              "      <th>english_reviews</th>\n",
              "      <th>malayalam_reviews</th>\n",
              "      <th>cm_reviews</th>\n",
              "      <th>transliterated_cm_reviews</th>\n",
              "      <th>Unnamed: 4</th>\n",
              "      <th>Unnamed: 5</th>\n",
              "    </tr>\n",
              "  </thead>\n",
              "  <tbody>\n",
              "    <tr>\n",
              "      <th>0</th>\n",
              "      <td>This product so far has not disappointed. My c...</td>\n",
              "      <td>ഈ ഉൽപ്പന്നം ഇതുവരെ നിരാശപ്പെടുത്തിയിട്ടില്ല. എ...</td>\n",
              "      <td>and  product  ഇതുവരെ  നിരാശപ്പെടുത്തിയിട്ടില്ല...</td>\n",
              "      <td>and  product  ituvare  nirashappetuttiyittilla...</td>\n",
              "      <td>NaN</td>\n",
              "      <td>NaN</td>\n",
              "    </tr>\n",
              "    <tr>\n",
              "      <th>1</th>\n",
              "      <td>great for beginner or experienced person. Boug...</td>\n",
              "      <td>തുടക്കക്കാരനോ പരിചയസമ്പന്നനോ ആയ വ്യക്തിക്ക് മി...</td>\n",
              "      <td>beginner  experienced  or  person  മികച്ചത്.  ...</td>\n",
              "      <td>beginner  experienced  or  person  mikachchat....</td>\n",
              "      <td>NaN</td>\n",
              "      <td>NaN</td>\n",
              "    </tr>\n",
              "    <tr>\n",
              "      <th>2</th>\n",
              "      <td>Inexpensive tablet for him to use and learn on...</td>\n",
              "      <td>അയാൾക്ക് ഉപയോഗിക്കാനും പഠിക്കാനുമുള്ള ചെലവുകുറ...</td>\n",
              "      <td>അയാൾക്ക്  ഉപയോഗിക്കാനും  പഠിക്കാനുമുള്ള inexpe...</td>\n",
              "      <td>ayalkk  upayogikkanum  pathikkanumulla inexpen...</td>\n",
              "      <td>NaN</td>\n",
              "      <td>NaN</td>\n",
              "    </tr>\n",
              "    <tr>\n",
              "      <th>3</th>\n",
              "      <td>I've had my Fire HD 8 two weeks now and I love...</td>\n",
              "      <td>എന്റെ ഫയർ എച്ച്‌ഡി 8 ഇപ്പോൾ രണ്ടാഴ്‌ചയുണ്ട്, എ...</td>\n",
              "      <td>എന്റെ  ipad  എച്ച്ഡി  8  ഇപ്പോൾ  രണ്ടാഴ്ചയുണ്ട...</td>\n",
              "      <td>ente  ipad  echchdi  8  ippol  rantazhchayunt ...</td>\n",
              "      <td>NaN</td>\n",
              "      <td>NaN</td>\n",
              "    </tr>\n",
              "    <tr>\n",
              "      <th>4</th>\n",
              "      <td>I bought this for my grand daughter when she c...</td>\n",
              "      <td>എന്റെ കൊച്ചുമകൾ സന്ദർശിക്കാൻ വരുമ്പോൾ ഞാൻ ഇത് ...</td>\n",
              "      <td>എന്റെ  daughter  സന്ദർശിക്കാൻ  വരുമ്പോൾ  ഞാൻ  ...</td>\n",
              "      <td>ente  daughter  sandarshikkan  varumpol  njan ...</td>\n",
              "      <td>NaN</td>\n",
              "      <td>NaN</td>\n",
              "    </tr>\n",
              "    <tr>\n",
              "      <th>...</th>\n",
              "      <td>...</td>\n",
              "      <td>...</td>\n",
              "      <td>...</td>\n",
              "      <td>...</td>\n",
              "      <td>...</td>\n",
              "      <td>...</td>\n",
              "    </tr>\n",
              "    <tr>\n",
              "      <th>34654</th>\n",
              "      <td>This is not appreciably faster than any other ...</td>\n",
              "      <td>എന്റെ കിൻഡിൽ, കിൻഡിൽ ഫയർ, കിൻഡിൽ ഫയർ എച്ച്‌ഡി,...</td>\n",
              "      <td>എന്റെ  kindle  കിൻഡിൽ  fire  കിൻഡിൽ  ഫയർ  hd  ...</td>\n",
              "      <td>ente  kindle  kindil  fire  kindil  phayar  hd...</td>\n",
              "      <td>NaN</td>\n",
              "      <td>NaN</td>\n",
              "    </tr>\n",
              "    <tr>\n",
              "      <th>34655</th>\n",
              "      <td>Amazon should include this charger with the Ki...</td>\n",
              "      <td>കിൻഡിലിനൊപ്പം ആമസോൺ ഈ ചാർജർ ഉൾപ്പെടുത്തണം. ഉൾപ...</td>\n",
              "      <td>കിൻഡിലിനൊപ്പം amazon. ഈ  ചാർജർ  ഉൾപ്പെടുത്തണം....</td>\n",
              "      <td>kindilinoppam amazon. i  charjar  ulppetuttana...</td>\n",
              "      <td>NaN</td>\n",
              "      <td>NaN</td>\n",
              "    </tr>\n",
              "    <tr>\n",
              "      <th>34656</th>\n",
              "      <td>Love my Kindle Fire but I am really disappoint...</td>\n",
              "      <td>എന്റെ കിൻഡിൽ ഫയർ ഇഷ്ടപ്പെടുന്നു, പക്ഷേ കിൻഡിൽ ...</td>\n",
              "      <td>എന്റെ  kindle  fire  ഇഷ്ടപ്പെടുന്നു  but  കിൻഡ...</td>\n",
              "      <td>ente  kindle  fire  ishtappetunnu  but  kindil...</td>\n",
              "      <td>NaN</td>\n",
              "      <td>NaN</td>\n",
              "    </tr>\n",
              "    <tr>\n",
              "      <th>34657</th>\n",
              "      <td>I was surprised to find it did not come with a...</td>\n",
              "      <td>ഒരു തരത്തിലുള്ള ചാർജിംഗ് കോഡുകളുമായും ഇത് വന്ന...</td>\n",
              "      <td>and  type  ചാർജിംഗ്  കോഡുകളുമായും  ഇത്  വന്നിട...</td>\n",
              "      <td>and  type  charjimg  kodukalumayum  it  vannit...</td>\n",
              "      <td>NaN</td>\n",
              "      <td>NaN</td>\n",
              "    </tr>\n",
              "    <tr>\n",
              "      <th>34658</th>\n",
              "      <td>to spite the fact that i have nothing but good...</td>\n",
              "      <td>ആമസോണിനെ കുറിച്ചും ആന്തിംഗിനെ കുറിച്ചും എനിക്ക...</td>\n",
              "      <td>ആമസോണിനെ  കുറിച്ചും  ആന്തിംഗിനെ  കുറിച്ചും  എന...</td>\n",
              "      <td>amasonine  kurichchum  antimgine  kurichchum  ...</td>\n",
              "      <td>NaN</td>\n",
              "      <td>NaN</td>\n",
              "    </tr>\n",
              "  </tbody>\n",
              "</table>\n",
              "<p>34659 rows × 6 columns</p>\n",
              "</div>\n",
              "      <button class=\"colab-df-convert\" onclick=\"convertToInteractive('df-f0a7e874-5a09-4c33-b0e8-6c283bf2bf9e')\"\n",
              "              title=\"Convert this dataframe to an interactive table.\"\n",
              "              style=\"display:none;\">\n",
              "        \n",
              "  <svg xmlns=\"http://www.w3.org/2000/svg\" height=\"24px\"viewBox=\"0 0 24 24\"\n",
              "       width=\"24px\">\n",
              "    <path d=\"M0 0h24v24H0V0z\" fill=\"none\"/>\n",
              "    <path d=\"M18.56 5.44l.94 2.06.94-2.06 2.06-.94-2.06-.94-.94-2.06-.94 2.06-2.06.94zm-11 1L8.5 8.5l.94-2.06 2.06-.94-2.06-.94L8.5 2.5l-.94 2.06-2.06.94zm10 10l.94 2.06.94-2.06 2.06-.94-2.06-.94-.94-2.06-.94 2.06-2.06.94z\"/><path d=\"M17.41 7.96l-1.37-1.37c-.4-.4-.92-.59-1.43-.59-.52 0-1.04.2-1.43.59L10.3 9.45l-7.72 7.72c-.78.78-.78 2.05 0 2.83L4 21.41c.39.39.9.59 1.41.59.51 0 1.02-.2 1.41-.59l7.78-7.78 2.81-2.81c.8-.78.8-2.07 0-2.86zM5.41 20L4 18.59l7.72-7.72 1.47 1.35L5.41 20z\"/>\n",
              "  </svg>\n",
              "      </button>\n",
              "      \n",
              "  <style>\n",
              "    .colab-df-container {\n",
              "      display:flex;\n",
              "      flex-wrap:wrap;\n",
              "      gap: 12px;\n",
              "    }\n",
              "\n",
              "    .colab-df-convert {\n",
              "      background-color: #E8F0FE;\n",
              "      border: none;\n",
              "      border-radius: 50%;\n",
              "      cursor: pointer;\n",
              "      display: none;\n",
              "      fill: #1967D2;\n",
              "      height: 32px;\n",
              "      padding: 0 0 0 0;\n",
              "      width: 32px;\n",
              "    }\n",
              "\n",
              "    .colab-df-convert:hover {\n",
              "      background-color: #E2EBFA;\n",
              "      box-shadow: 0px 1px 2px rgba(60, 64, 67, 0.3), 0px 1px 3px 1px rgba(60, 64, 67, 0.15);\n",
              "      fill: #174EA6;\n",
              "    }\n",
              "\n",
              "    [theme=dark] .colab-df-convert {\n",
              "      background-color: #3B4455;\n",
              "      fill: #D2E3FC;\n",
              "    }\n",
              "\n",
              "    [theme=dark] .colab-df-convert:hover {\n",
              "      background-color: #434B5C;\n",
              "      box-shadow: 0px 1px 3px 1px rgba(0, 0, 0, 0.15);\n",
              "      filter: drop-shadow(0px 1px 2px rgba(0, 0, 0, 0.3));\n",
              "      fill: #FFFFFF;\n",
              "    }\n",
              "  </style>\n",
              "\n",
              "      <script>\n",
              "        const buttonEl =\n",
              "          document.querySelector('#df-f0a7e874-5a09-4c33-b0e8-6c283bf2bf9e button.colab-df-convert');\n",
              "        buttonEl.style.display =\n",
              "          google.colab.kernel.accessAllowed ? 'block' : 'none';\n",
              "\n",
              "        async function convertToInteractive(key) {\n",
              "          const element = document.querySelector('#df-f0a7e874-5a09-4c33-b0e8-6c283bf2bf9e');\n",
              "          const dataTable =\n",
              "            await google.colab.kernel.invokeFunction('convertToInteractive',\n",
              "                                                     [key], {});\n",
              "          if (!dataTable) return;\n",
              "\n",
              "          const docLinkHtml = 'Like what you see? Visit the ' +\n",
              "            '<a target=\"_blank\" href=https://colab.research.google.com/notebooks/data_table.ipynb>data table notebook</a>'\n",
              "            + ' to learn more about interactive tables.';\n",
              "          element.innerHTML = '';\n",
              "          dataTable['output_type'] = 'display_data';\n",
              "          await google.colab.output.renderOutput(dataTable, element);\n",
              "          const docLink = document.createElement('div');\n",
              "          docLink.innerHTML = docLinkHtml;\n",
              "          element.appendChild(docLink);\n",
              "        }\n",
              "      </script>\n",
              "    </div>\n",
              "  </div>\n",
              "  "
            ]
          },
          "metadata": {},
          "execution_count": 5
        }
      ],
      "source": [
        "df_reviews = pd.read_csv('/content/amazon_fullReviews.csv',  sep=',')\n",
        "df_reviews"
      ]
    },
    {
      "cell_type": "code",
      "execution_count": null,
      "metadata": {
        "colab": {
          "base_uri": "https://localhost:8080/",
          "height": 424
        },
        "id": "v1K82MlhVD6W",
        "outputId": "0363e2f4-a8a3-451a-9c77-fe3ea7275a50"
      },
      "outputs": [
        {
          "output_type": "execute_result",
          "data": {
            "text/plain": [
              "           u                                         eng_tokens  \\\n",
              "0          0  'this', 'product', 'so', 'far', 'has', 'not', ...   \n",
              "1          1  'great', 'for', 'beginner', 'or', 'experienced...   \n",
              "2          2  'inexpensive', 'tablet', 'for', 'him', 'to', '...   \n",
              "3          3  'ive', 'had', 'my', 'fire', 'hd', '8', 'two', ...   \n",
              "4          4  'i', 'bought', 'this', 'for', 'my', 'grand', '...   \n",
              "...      ...                                                ...   \n",
              "34654  34654  'this', 'is', 'not', 'appreciably', 'faster', ...   \n",
              "34655  34655  'amazon', 'should', 'include', 'this', 'charge...   \n",
              "34656  34656  'love', 'my', 'kindle', 'fire', 'but', 'i', 'a...   \n",
              "34657  34657  'i', 'was', 'surprised', 'to', 'find', 'it', '...   \n",
              "34658  34658  'to', 'spite', 'the', 'fact', 'that', 'i', 'ha...   \n",
              "\n",
              "                                              mal_tokens  \\\n",
              "0      'ഈ', 'ഉൽപ്പന്നം', 'ഇതുവരെ', 'നിരാശപ്പെടുത്തിയി...   \n",
              "1      'തുടക്കക്കാരനോ', 'പരിചയസമ്പന്നനോ', 'ആയ', 'വ്യക...   \n",
              "2      'അയാൾക്ക്', 'ഉപയോഗിക്കാനും', 'പഠിക്കാനുമുള്ള',...   \n",
              "3      'എന്റെ', 'ഫയർ', 'എച്ച്ഡി', '8', 'ഇപ്പോൾ', 'രണ്...   \n",
              "4      'എന്റെ', 'കൊച്ചുമകൾ', 'സന്ദർശിക്കാൻ', 'വരുമ്പോ...   \n",
              "...                                                  ...   \n",
              "34654  'എന്റെ', 'കിൻഡിൽ', 'കിൻഡിൽ', 'ഫയർ', 'കിൻഡിൽ', ...   \n",
              "34655  'കിൻഡിലിനൊപ്പം', 'ആമസോൺ', 'ഈ', 'ചാർജർ', 'ഉൾപ്പ...   \n",
              "34656  'എന്റെ', 'കിൻഡിൽ', 'ഫയർ', 'ഇഷ്ടപ്പെടുന്നു', 'പ...   \n",
              "34657  'ഒരു', 'തരത്തിലുള്ള', 'ചാർജിംഗ്', 'കോഡുകളുമായു...   \n",
              "34658  'ആമസോണിനെ', 'കുറിച്ചും', 'ആന്തിംഗിനെ', 'കുറിച്...   \n",
              "\n",
              "                                               cm_tokens  \n",
              "0      [\" 'and'\", \" 'product'\", \" 'ഇതുവരെ'\", \" 'നിരാശ...  \n",
              "1      [\" 'beginner'\", \" 'experienced'\", \" 'or'\", \" '...  \n",
              "2      [\"'അയാൾക്ക്'\", \" 'ഉപയോഗിക്കാനും'\", \" 'പഠിക്കാന...  \n",
              "3      [\"'എന്റെ'\", \" 'ipad'\", \" 'എച്ച്ഡി'\", \" '8'\", \"...  \n",
              "4      [\"'എന്റെ'\", \" 'daughter'\", \" 'സന്ദർശിക്കാൻ'\", ...  \n",
              "...                                                  ...  \n",
              "34654  [\"'എന്റെ'\", \" 'kindle'\", \" 'കിൻഡിൽ'\", \" 'fire'...  \n",
              "34655  [\"'കിൻഡിലിനൊപ്പം'\", \"'amazon'\", \" 'ഈ'\", \" 'ചാർ...  \n",
              "34656  [\"'എന്റെ'\", \" 'kindle'\", \" 'fire'\", \" 'ഇഷ്ടപ്പ...  \n",
              "34657  [\" 'and'\", \" 'type'\", \" 'ചാർജിംഗ്'\", \" 'കോഡുകള...  \n",
              "34658  [\"'ആമസോണിനെ'\", \" 'കുറിച്ചും'\", \" 'ആന്തിംഗിനെ'\"...  \n",
              "\n",
              "[34659 rows x 4 columns]"
            ],
            "text/html": [
              "\n",
              "  <div id=\"df-17c5d4aa-8d6c-4db8-9343-be026958d3db\">\n",
              "    <div class=\"colab-df-container\">\n",
              "      <div>\n",
              "<style scoped>\n",
              "    .dataframe tbody tr th:only-of-type {\n",
              "        vertical-align: middle;\n",
              "    }\n",
              "\n",
              "    .dataframe tbody tr th {\n",
              "        vertical-align: top;\n",
              "    }\n",
              "\n",
              "    .dataframe thead th {\n",
              "        text-align: right;\n",
              "    }\n",
              "</style>\n",
              "<table border=\"1\" class=\"dataframe\">\n",
              "  <thead>\n",
              "    <tr style=\"text-align: right;\">\n",
              "      <th></th>\n",
              "      <th>u</th>\n",
              "      <th>eng_tokens</th>\n",
              "      <th>mal_tokens</th>\n",
              "      <th>cm_tokens</th>\n",
              "    </tr>\n",
              "  </thead>\n",
              "  <tbody>\n",
              "    <tr>\n",
              "      <th>0</th>\n",
              "      <td>0</td>\n",
              "      <td>'this', 'product', 'so', 'far', 'has', 'not', ...</td>\n",
              "      <td>'ഈ', 'ഉൽപ്പന്നം', 'ഇതുവരെ', 'നിരാശപ്പെടുത്തിയി...</td>\n",
              "      <td>[\" 'and'\", \" 'product'\", \" 'ഇതുവരെ'\", \" 'നിരാശ...</td>\n",
              "    </tr>\n",
              "    <tr>\n",
              "      <th>1</th>\n",
              "      <td>1</td>\n",
              "      <td>'great', 'for', 'beginner', 'or', 'experienced...</td>\n",
              "      <td>'തുടക്കക്കാരനോ', 'പരിചയസമ്പന്നനോ', 'ആയ', 'വ്യക...</td>\n",
              "      <td>[\" 'beginner'\", \" 'experienced'\", \" 'or'\", \" '...</td>\n",
              "    </tr>\n",
              "    <tr>\n",
              "      <th>2</th>\n",
              "      <td>2</td>\n",
              "      <td>'inexpensive', 'tablet', 'for', 'him', 'to', '...</td>\n",
              "      <td>'അയാൾക്ക്', 'ഉപയോഗിക്കാനും', 'പഠിക്കാനുമുള്ള',...</td>\n",
              "      <td>[\"'അയാൾക്ക്'\", \" 'ഉപയോഗിക്കാനും'\", \" 'പഠിക്കാന...</td>\n",
              "    </tr>\n",
              "    <tr>\n",
              "      <th>3</th>\n",
              "      <td>3</td>\n",
              "      <td>'ive', 'had', 'my', 'fire', 'hd', '8', 'two', ...</td>\n",
              "      <td>'എന്റെ', 'ഫയർ', 'എച്ച്ഡി', '8', 'ഇപ്പോൾ', 'രണ്...</td>\n",
              "      <td>[\"'എന്റെ'\", \" 'ipad'\", \" 'എച്ച്ഡി'\", \" '8'\", \"...</td>\n",
              "    </tr>\n",
              "    <tr>\n",
              "      <th>4</th>\n",
              "      <td>4</td>\n",
              "      <td>'i', 'bought', 'this', 'for', 'my', 'grand', '...</td>\n",
              "      <td>'എന്റെ', 'കൊച്ചുമകൾ', 'സന്ദർശിക്കാൻ', 'വരുമ്പോ...</td>\n",
              "      <td>[\"'എന്റെ'\", \" 'daughter'\", \" 'സന്ദർശിക്കാൻ'\", ...</td>\n",
              "    </tr>\n",
              "    <tr>\n",
              "      <th>...</th>\n",
              "      <td>...</td>\n",
              "      <td>...</td>\n",
              "      <td>...</td>\n",
              "      <td>...</td>\n",
              "    </tr>\n",
              "    <tr>\n",
              "      <th>34654</th>\n",
              "      <td>34654</td>\n",
              "      <td>'this', 'is', 'not', 'appreciably', 'faster', ...</td>\n",
              "      <td>'എന്റെ', 'കിൻഡിൽ', 'കിൻഡിൽ', 'ഫയർ', 'കിൻഡിൽ', ...</td>\n",
              "      <td>[\"'എന്റെ'\", \" 'kindle'\", \" 'കിൻഡിൽ'\", \" 'fire'...</td>\n",
              "    </tr>\n",
              "    <tr>\n",
              "      <th>34655</th>\n",
              "      <td>34655</td>\n",
              "      <td>'amazon', 'should', 'include', 'this', 'charge...</td>\n",
              "      <td>'കിൻഡിലിനൊപ്പം', 'ആമസോൺ', 'ഈ', 'ചാർജർ', 'ഉൾപ്പ...</td>\n",
              "      <td>[\"'കിൻഡിലിനൊപ്പം'\", \"'amazon'\", \" 'ഈ'\", \" 'ചാർ...</td>\n",
              "    </tr>\n",
              "    <tr>\n",
              "      <th>34656</th>\n",
              "      <td>34656</td>\n",
              "      <td>'love', 'my', 'kindle', 'fire', 'but', 'i', 'a...</td>\n",
              "      <td>'എന്റെ', 'കിൻഡിൽ', 'ഫയർ', 'ഇഷ്ടപ്പെടുന്നു', 'പ...</td>\n",
              "      <td>[\"'എന്റെ'\", \" 'kindle'\", \" 'fire'\", \" 'ഇഷ്ടപ്പ...</td>\n",
              "    </tr>\n",
              "    <tr>\n",
              "      <th>34657</th>\n",
              "      <td>34657</td>\n",
              "      <td>'i', 'was', 'surprised', 'to', 'find', 'it', '...</td>\n",
              "      <td>'ഒരു', 'തരത്തിലുള്ള', 'ചാർജിംഗ്', 'കോഡുകളുമായു...</td>\n",
              "      <td>[\" 'and'\", \" 'type'\", \" 'ചാർജിംഗ്'\", \" 'കോഡുകള...</td>\n",
              "    </tr>\n",
              "    <tr>\n",
              "      <th>34658</th>\n",
              "      <td>34658</td>\n",
              "      <td>'to', 'spite', 'the', 'fact', 'that', 'i', 'ha...</td>\n",
              "      <td>'ആമസോണിനെ', 'കുറിച്ചും', 'ആന്തിംഗിനെ', 'കുറിച്...</td>\n",
              "      <td>[\"'ആമസോണിനെ'\", \" 'കുറിച്ചും'\", \" 'ആന്തിംഗിനെ'\"...</td>\n",
              "    </tr>\n",
              "  </tbody>\n",
              "</table>\n",
              "<p>34659 rows × 4 columns</p>\n",
              "</div>\n",
              "      <button class=\"colab-df-convert\" onclick=\"convertToInteractive('df-17c5d4aa-8d6c-4db8-9343-be026958d3db')\"\n",
              "              title=\"Convert this dataframe to an interactive table.\"\n",
              "              style=\"display:none;\">\n",
              "        \n",
              "  <svg xmlns=\"http://www.w3.org/2000/svg\" height=\"24px\"viewBox=\"0 0 24 24\"\n",
              "       width=\"24px\">\n",
              "    <path d=\"M0 0h24v24H0V0z\" fill=\"none\"/>\n",
              "    <path d=\"M18.56 5.44l.94 2.06.94-2.06 2.06-.94-2.06-.94-.94-2.06-.94 2.06-2.06.94zm-11 1L8.5 8.5l.94-2.06 2.06-.94-2.06-.94L8.5 2.5l-.94 2.06-2.06.94zm10 10l.94 2.06.94-2.06 2.06-.94-2.06-.94-.94-2.06-.94 2.06-2.06.94z\"/><path d=\"M17.41 7.96l-1.37-1.37c-.4-.4-.92-.59-1.43-.59-.52 0-1.04.2-1.43.59L10.3 9.45l-7.72 7.72c-.78.78-.78 2.05 0 2.83L4 21.41c.39.39.9.59 1.41.59.51 0 1.02-.2 1.41-.59l7.78-7.78 2.81-2.81c.8-.78.8-2.07 0-2.86zM5.41 20L4 18.59l7.72-7.72 1.47 1.35L5.41 20z\"/>\n",
              "  </svg>\n",
              "      </button>\n",
              "      \n",
              "  <style>\n",
              "    .colab-df-container {\n",
              "      display:flex;\n",
              "      flex-wrap:wrap;\n",
              "      gap: 12px;\n",
              "    }\n",
              "\n",
              "    .colab-df-convert {\n",
              "      background-color: #E8F0FE;\n",
              "      border: none;\n",
              "      border-radius: 50%;\n",
              "      cursor: pointer;\n",
              "      display: none;\n",
              "      fill: #1967D2;\n",
              "      height: 32px;\n",
              "      padding: 0 0 0 0;\n",
              "      width: 32px;\n",
              "    }\n",
              "\n",
              "    .colab-df-convert:hover {\n",
              "      background-color: #E2EBFA;\n",
              "      box-shadow: 0px 1px 2px rgba(60, 64, 67, 0.3), 0px 1px 3px 1px rgba(60, 64, 67, 0.15);\n",
              "      fill: #174EA6;\n",
              "    }\n",
              "\n",
              "    [theme=dark] .colab-df-convert {\n",
              "      background-color: #3B4455;\n",
              "      fill: #D2E3FC;\n",
              "    }\n",
              "\n",
              "    [theme=dark] .colab-df-convert:hover {\n",
              "      background-color: #434B5C;\n",
              "      box-shadow: 0px 1px 3px 1px rgba(0, 0, 0, 0.15);\n",
              "      filter: drop-shadow(0px 1px 2px rgba(0, 0, 0, 0.3));\n",
              "      fill: #FFFFFF;\n",
              "    }\n",
              "  </style>\n",
              "\n",
              "      <script>\n",
              "        const buttonEl =\n",
              "          document.querySelector('#df-17c5d4aa-8d6c-4db8-9343-be026958d3db button.colab-df-convert');\n",
              "        buttonEl.style.display =\n",
              "          google.colab.kernel.accessAllowed ? 'block' : 'none';\n",
              "\n",
              "        async function convertToInteractive(key) {\n",
              "          const element = document.querySelector('#df-17c5d4aa-8d6c-4db8-9343-be026958d3db');\n",
              "          const dataTable =\n",
              "            await google.colab.kernel.invokeFunction('convertToInteractive',\n",
              "                                                     [key], {});\n",
              "          if (!dataTable) return;\n",
              "\n",
              "          const docLinkHtml = 'Like what you see? Visit the ' +\n",
              "            '<a target=\"_blank\" href=https://colab.research.google.com/notebooks/data_table.ipynb>data table notebook</a>'\n",
              "            + ' to learn more about interactive tables.';\n",
              "          element.innerHTML = '';\n",
              "          dataTable['output_type'] = 'display_data';\n",
              "          await google.colab.output.renderOutput(dataTable, element);\n",
              "          const docLink = document.createElement('div');\n",
              "          docLink.innerHTML = docLinkHtml;\n",
              "          element.appendChild(docLink);\n",
              "        }\n",
              "      </script>\n",
              "    </div>\n",
              "  </div>\n",
              "  "
            ]
          },
          "metadata": {},
          "execution_count": 6
        }
      ],
      "source": [
        "df_tokens= pd.read_csv('/content/amazon_cm_token.csv',  sep=',')\n",
        "df_tokens"
      ]
    },
    {
      "cell_type": "code",
      "execution_count": null,
      "metadata": {
        "colab": {
          "base_uri": "https://localhost:8080/"
        },
        "id": "kNYeRqpaVl6v",
        "outputId": "73782779-c94a-47a7-9ebb-6b5565f23ff1"
      },
      "outputs": [
        {
          "output_type": "stream",
          "name": "stdout",
          "text": [
            "Looking in indexes: https://pypi.org/simple, https://us-python.pkg.dev/colab-wheels/public/simple/\n",
            "Collecting indic-nlp-library\n",
            "  Downloading indic_nlp_library-0.81-py3-none-any.whl (40 kB)\n",
            "\u001b[K     |████████████████████████████████| 40 kB 4.3 MB/s \n",
            "\u001b[?25hCollecting sphinx-argparse\n",
            "  Downloading sphinx_argparse-0.4.0-py3-none-any.whl (12 kB)\n",
            "Requirement already satisfied: pandas in /usr/local/lib/python3.8/dist-packages (from indic-nlp-library) (1.3.5)\n",
            "Collecting morfessor\n",
            "  Downloading Morfessor-2.0.6-py3-none-any.whl (35 kB)\n",
            "Requirement already satisfied: numpy in /usr/local/lib/python3.8/dist-packages (from indic-nlp-library) (1.21.6)\n",
            "Collecting sphinx-rtd-theme\n",
            "  Downloading sphinx_rtd_theme-1.1.1-py2.py3-none-any.whl (2.8 MB)\n",
            "\u001b[K     |████████████████████████████████| 2.8 MB 15.3 MB/s \n",
            "\u001b[?25hRequirement already satisfied: python-dateutil>=2.7.3 in /usr/local/lib/python3.8/dist-packages (from pandas->indic-nlp-library) (2.8.2)\n",
            "Requirement already satisfied: pytz>=2017.3 in /usr/local/lib/python3.8/dist-packages (from pandas->indic-nlp-library) (2022.6)\n",
            "Requirement already satisfied: six>=1.5 in /usr/local/lib/python3.8/dist-packages (from python-dateutil>=2.7.3->pandas->indic-nlp-library) (1.15.0)\n",
            "Requirement already satisfied: sphinx>=1.2.0 in /usr/local/lib/python3.8/dist-packages (from sphinx-argparse->indic-nlp-library) (1.8.6)\n",
            "Requirement already satisfied: packaging in /usr/local/lib/python3.8/dist-packages (from sphinx>=1.2.0->sphinx-argparse->indic-nlp-library) (21.3)\n",
            "Requirement already satisfied: sphinxcontrib-websupport in /usr/local/lib/python3.8/dist-packages (from sphinx>=1.2.0->sphinx-argparse->indic-nlp-library) (1.2.4)\n",
            "Requirement already satisfied: alabaster<0.8,>=0.7 in /usr/local/lib/python3.8/dist-packages (from sphinx>=1.2.0->sphinx-argparse->indic-nlp-library) (0.7.12)\n",
            "Requirement already satisfied: babel!=2.0,>=1.3 in /usr/local/lib/python3.8/dist-packages (from sphinx>=1.2.0->sphinx-argparse->indic-nlp-library) (2.11.0)\n",
            "Requirement already satisfied: requests>=2.0.0 in /usr/local/lib/python3.8/dist-packages (from sphinx>=1.2.0->sphinx-argparse->indic-nlp-library) (2.23.0)\n",
            "Requirement already satisfied: Jinja2>=2.3 in /usr/local/lib/python3.8/dist-packages (from sphinx>=1.2.0->sphinx-argparse->indic-nlp-library) (2.11.3)\n",
            "Requirement already satisfied: setuptools in /usr/local/lib/python3.8/dist-packages (from sphinx>=1.2.0->sphinx-argparse->indic-nlp-library) (57.4.0)\n",
            "Requirement already satisfied: docutils<0.18,>=0.11 in /usr/local/lib/python3.8/dist-packages (from sphinx>=1.2.0->sphinx-argparse->indic-nlp-library) (0.17.1)\n",
            "Requirement already satisfied: snowballstemmer>=1.1 in /usr/local/lib/python3.8/dist-packages (from sphinx>=1.2.0->sphinx-argparse->indic-nlp-library) (2.2.0)\n",
            "Requirement already satisfied: imagesize in /usr/local/lib/python3.8/dist-packages (from sphinx>=1.2.0->sphinx-argparse->indic-nlp-library) (1.4.1)\n",
            "Requirement already satisfied: Pygments>=2.0 in /usr/local/lib/python3.8/dist-packages (from sphinx>=1.2.0->sphinx-argparse->indic-nlp-library) (2.6.1)\n",
            "Requirement already satisfied: MarkupSafe>=0.23 in /usr/local/lib/python3.8/dist-packages (from Jinja2>=2.3->sphinx>=1.2.0->sphinx-argparse->indic-nlp-library) (2.0.1)\n",
            "Requirement already satisfied: idna<3,>=2.5 in /usr/local/lib/python3.8/dist-packages (from requests>=2.0.0->sphinx>=1.2.0->sphinx-argparse->indic-nlp-library) (2.10)\n",
            "Requirement already satisfied: chardet<4,>=3.0.2 in /usr/local/lib/python3.8/dist-packages (from requests>=2.0.0->sphinx>=1.2.0->sphinx-argparse->indic-nlp-library) (3.0.4)\n",
            "Requirement already satisfied: certifi>=2017.4.17 in /usr/local/lib/python3.8/dist-packages (from requests>=2.0.0->sphinx>=1.2.0->sphinx-argparse->indic-nlp-library) (2022.12.7)\n",
            "Requirement already satisfied: urllib3!=1.25.0,!=1.25.1,<1.26,>=1.21.1 in /usr/local/lib/python3.8/dist-packages (from requests>=2.0.0->sphinx>=1.2.0->sphinx-argparse->indic-nlp-library) (1.24.3)\n",
            "Requirement already satisfied: pyparsing!=3.0.5,>=2.0.2 in /usr/local/lib/python3.8/dist-packages (from packaging->sphinx>=1.2.0->sphinx-argparse->indic-nlp-library) (3.0.9)\n",
            "Requirement already satisfied: sphinxcontrib-serializinghtml in /usr/local/lib/python3.8/dist-packages (from sphinxcontrib-websupport->sphinx>=1.2.0->sphinx-argparse->indic-nlp-library) (1.1.5)\n",
            "Installing collected packages: sphinx-rtd-theme, sphinx-argparse, morfessor, indic-nlp-library\n",
            "Successfully installed indic-nlp-library-0.81 morfessor-2.0.6 sphinx-argparse-0.4.0 sphinx-rtd-theme-1.1.1\n"
          ]
        }
      ],
      "source": [
        "!pip install indic-nlp-library"
      ]
    },
    {
      "cell_type": "code",
      "execution_count": null,
      "metadata": {
        "id": "_31fIOVHNvaW"
      },
      "outputs": [],
      "source": [
        "from indicnlp.tokenize import indic_tokenize  \n",
        "from indicnlp.normalize.indic_normalize import IndicNormalizerFactory\n",
        "import warnings"
      ]
    },
    {
      "cell_type": "code",
      "execution_count": null,
      "metadata": {
        "id": "Bgjyz7a6NSAM"
      },
      "outputs": [],
      "source": [
        "def e_tokenize(es):\n",
        "  es=es.lower()\n",
        "  es= es.translate(str.maketrans('', '', string.punctuation))\n",
        "  e_token=[]\n",
        "  #indic_string=clean_text(text)\n",
        " \n",
        "  for t in indic_tokenize.trivial_tokenize(es): \n",
        "    #print(t)\n",
        "    #e_token=en_tokens.split(',')\n",
        "    e_token.append(t)\n",
        "    #df_e_tokens.loc[len(df_e_tokens)] = e_token\n",
        "  return e_token\n",
        "\n",
        "def m_tokenize(ms):\n",
        "  input_text = ms.translate(str.maketrans('', '', string.punctuation))\n",
        "  factory=IndicNormalizerFactory()\n",
        "  normalizer=factory.get_normalizer(\"ml\",remove_nuktas=True)\n",
        "  output_text=normalizer.normalize(input_text)\n",
        "  m_token=[]\n",
        "  for t in indic_tokenize.trivial_tokenize(output_text): \n",
        "    m_token.append(t)\n",
        "  return(m_token)\n",
        "\n",
        "def cmtoken_clean(words):\n",
        "  step1 = words.replace(\"`\", \"\")\n",
        "  step2 = step1.replace('\"', '')\n",
        "  step3 = step2.replace('\" ','')\n",
        "  step4 = step3.replace(',  ',',')\n",
        "  return step3.strip()\n",
        "\n",
        "def t_tokenize(ts):\n",
        "  ts=ts.lower()\n",
        "  ts= ts.translate(str.maketrans('', '', string.punctuation))\n",
        "  t_token=[]\n",
        "  #indic_string=clean_text(text)\n",
        " \n",
        "  for t in indic_tokenize.trivial_tokenize(ts): \n",
        "    #print(t)\n",
        "    #e_token=en_tokens.split(',')\n",
        "    t_token.append(t)\n",
        "  return t_token"
      ]
    },
    {
      "cell_type": "code",
      "execution_count": null,
      "metadata": {
        "id": "gTNae207VJnm"
      },
      "outputs": [],
      "source": [
        "refs = []\n",
        "for i in range(len(df_reviews)):\n",
        "  row=df_reviews.english_reviews[i]\n",
        "  refs.append(e_tokenize(row))\n",
        "\n",
        "\n",
        "mal = []\n",
        "for i in range(len(df_reviews)):\n",
        "  row=df_reviews.malayalam_reviews[i]\n",
        "  mal.append(m_tokenize(row))\n",
        "\n",
        "cm = []\n",
        "for i in range(len(df_reviews.cm_reviews)):\n",
        "  row=df_reviews.cm_reviews[i]\n",
        "  cm.append(t_tokenize(row))\n",
        "\n",
        "trans = []\n",
        "for i in range(len(df_reviews.transliterated_cm_reviews)):\n",
        "  row=df_reviews.transliterated_cm_reviews[i]\n",
        "  trans.append(t_tokenize(row))\n"
      ]
    },
    {
      "cell_type": "markdown",
      "source": [
        "METEOR stands for The Metric for Evaluation of Translation with Explicit ORdering. It was introduced in this paper. It can be used to evaluate output across various spectrums of tasks like Machine Translation, Text Summarization, Image Captioning, etc. \n",
        "It comes with some obvious goodness compared to the BLEU metric (a popular one when it comes to evaluating o/p from Machine Translation systems) that focuses on majorly capturing the precision aspect of the generation against the ground truth. METEOR on the other hand is based on the idea of calculating the Harmonic mean of the unigram precision and recall, where recall is given more weight over precision. Giving greater weight to recall allows us to understand more about how much of the ground truth have we produced as a part of output during the generation process. "
      ],
      "metadata": {
        "id": "_-ssNWVQNOe4"
      }
    },
    {
      "cell_type": "code",
      "source": [
        "import nltk\n",
        "nltk.download('wordnet')\n",
        "nltk.download('omw-1.4')"
      ],
      "metadata": {
        "colab": {
          "base_uri": "https://localhost:8080/"
        },
        "id": "G_dkFlctMGCV",
        "outputId": "0e50ee61-0e55-4b56-ae31-4d18c929e408"
      },
      "execution_count": null,
      "outputs": [
        {
          "output_type": "stream",
          "name": "stderr",
          "text": [
            "[nltk_data] Downloading package wordnet to /root/nltk_data...\n",
            "[nltk_data]   Package wordnet is already up-to-date!\n",
            "[nltk_data] Downloading package omw-1.4 to /root/nltk_data...\n"
          ]
        },
        {
          "output_type": "execute_result",
          "data": {
            "text/plain": [
              "True"
            ]
          },
          "metadata": {},
          "execution_count": 18
        }
      ]
    },
    {
      "cell_type": "code",
      "execution_count": null,
      "metadata": {
        "id": "Wm24bqmYK92E"
      },
      "outputs": [],
      "source": [
        "from nltk.translate import meteor\n",
        "\n",
        "def calculate_meteor(candidate, reference):\n",
        "  '''\n",
        "  candidate, reference: tokenized list of words in the sentence\n",
        "  '''\n",
        "  reference = reference\n",
        "  candidate = candidate\n",
        "  meteor_score = round(meteor([candidate],reference), 4)\n",
        "  return meteor_score"
      ]
    },
    {
      "cell_type": "code",
      "source": [
        "candidate=trans[34049]\n",
        "reference=refs[34049]\n",
        "meteor_score=calculate_meteor(candidate, reference)\n",
        "meteor_score"
      ],
      "metadata": {
        "colab": {
          "base_uri": "https://localhost:8080/"
        },
        "id": "lhPV79KJL28-",
        "outputId": "ecb85fda-ab26-4d30-b260-031559a94a3d"
      },
      "execution_count": null,
      "outputs": [
        {
          "output_type": "execute_result",
          "data": {
            "text/plain": [
              "0.5078"
            ]
          },
          "metadata": {},
          "execution_count": 37
        }
      ]
    },
    {
      "cell_type": "code",
      "source": [
        "meteor_scores=[]\n",
        "for i in range(0,len(df_reviews)):\n",
        "  print(\"\\n***************************************** In Row \",i,\" ************************************************************\\n\")\n",
        "  ts=0.6+(i*0.01)\n",
        "  candidate=trans[i]\n",
        "  reference=refs[i]\n",
        "  meteor_score=calculate_meteor(candidate, reference)\n",
        "  print(meteor_score)\n",
        "  meteor_scores+= [meteor_score]"
      ],
      "metadata": {
        "id": "Hk3y41uxMi1y"
      },
      "execution_count": null,
      "outputs": []
    },
    {
      "cell_type": "code",
      "source": [
        "meteor_scores_eng_mal=[]\n",
        "for i in range(0,len(df_reviews)):\n",
        "  #print(\"\\n***************************************** In Row \",i,\" ************************************************************\\n\")\n",
        "  ts=0.6+(i*0.01)\n",
        "  candidate=mal[i]\n",
        "  reference=refs[i]\n",
        "  meteor_score=calculate_meteor(candidate, reference)\n",
        "  #print(meteor_score)\n",
        "  meteor_scores_eng_mal+= [meteor_score]"
      ],
      "metadata": {
        "id": "l8qpHMaERJU0"
      },
      "execution_count": null,
      "outputs": []
    },
    {
      "cell_type": "code",
      "source": [
        "meteor_scores_eng_cm=[]\n",
        "for i in range(0,len(df_reviews)):\n",
        "  #print(\"\\n***************************************** In Row \",i,\" ************************************************************\\n\")\n",
        "  ts=0.6+(i*0.01)\n",
        "  candidate=cm[i]\n",
        "  reference=refs[i]\n",
        "  meteor_score=calculate_meteor(candidate, reference)\n",
        "  #print(meteor_score)\n",
        "  meteor_scores_eng_cm+= [meteor_score]"
      ],
      "metadata": {
        "id": "ZJlduHs8RUdL"
      },
      "execution_count": null,
      "outputs": []
    },
    {
      "cell_type": "code",
      "source": [
        "meteor_scores_mal_cm=[]\n",
        "for i in range(0,len(df_reviews)):\n",
        "  #print(\"\\n***************************************** In Row \",i,\" ************************************************************\\n\")\n",
        "  ts=0.6+(i*0.01)\n",
        "  candidate=cm[i]\n",
        "  reference=mal[i]\n",
        "  meteor_score=calculate_meteor(candidate, reference)\n",
        "  #print(meteor_score)\n",
        "  meteor_scores_mal_cm+= [meteor_score]"
      ],
      "metadata": {
        "id": "sSr-1YqkRb3h"
      },
      "execution_count": null,
      "outputs": []
    },
    {
      "cell_type": "code",
      "source": [
        "meteor_scores_mal_trans=[]\n",
        "for i in range(0,len(df_reviews)):\n",
        "  #print(\"\\n***************************************** In Row \",i,\" ************************************************************\\n\")\n",
        "  ts=0.6+(i*0.01)\n",
        "  candidate=trans[i]\n",
        "  reference=mal[i]\n",
        "  meteor_score=calculate_meteor(candidate, reference)\n",
        "  #print(meteor_score)\n",
        "  meteor_scores_mal_trans+= [meteor_score]"
      ],
      "metadata": {
        "id": "LStafL6QRlpG"
      },
      "execution_count": null,
      "outputs": []
    },
    {
      "cell_type": "code",
      "source": [
        "with open('/content/meteor_scores.csv', 'w') as file:\n",
        "   pass \n",
        "print(\"Empty File Created Successfully\")"
      ],
      "metadata": {
        "colab": {
          "base_uri": "https://localhost:8080/"
        },
        "id": "l94s6AWUQ1Pr",
        "outputId": "a83407b4-6d58-439f-aae1-d1415a710ca6"
      },
      "execution_count": null,
      "outputs": [
        {
          "output_type": "stream",
          "name": "stdout",
          "text": [
            "Empty File Created Successfully\n"
          ]
        }
      ]
    },
    {
      "cell_type": "code",
      "source": [
        "import pandas as pd\n",
        "import numpy as np\n",
        "\n",
        "a = np.array(meteor_scores_eng_cm)\n",
        "b = np.array(meteor_scores_eng_mal)\n",
        "c=np.array(meteor_scores)\n",
        "d=np.array(meteor_scores_mal_cm)\n",
        "e=np.array(meteor_scores_mal_trans)\n",
        "df = pd.DataFrame({\"meteor_scores_eng_cm\" : a, \"meteor_scores_eng_mal\" : b,\"meteor_scores_eng_trans\":c,\"meteor_scores_mal_cm\":d,\"meteor_scores_mal_trans\":e})\n",
        "df.to_csv(\"meteor_scores.csv\", index=False)"
      ],
      "metadata": {
        "id": "GI9Qmq8-Wbwp"
      },
      "execution_count": null,
      "outputs": []
    }
  ]
}